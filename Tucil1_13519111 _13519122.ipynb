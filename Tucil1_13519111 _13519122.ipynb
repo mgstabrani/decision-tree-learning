{
 "cells": [
  {
   "cell_type": "markdown",
   "metadata": {},
   "source": [
    "# Decision Tree Learning\n",
    "\n",
    "### Member: \n",
    "- [Febriawan Ghally Ar Rahman (1359111)](https://github.com/ghallyy)\n",
    "- [Mgs. Tabrani (13519122)](https://github.com/mgstabrani)\n",
    "\n",
    "### Content\n",
    "1. [DecisionTreeClassifier](http://scikit-learn.org/stable/modules/tree.html)\n",
    "2. [Id3Estimator](https://github.com/svaante/decision-tree-id3)\n",
    "3. [K Means](https://scikit-learn.org/0.19/modules/generated/sklearn.cluster.KMeans.html)\n",
    "4. [LogisticRegression](https://scikitlearn.org/stable/modules/generated/sklearn.linear_model.LogisticRegression.html)\n",
    "5. [Neural_network](https://scikitlearn.org/stable/modules/generated/sklearn.neural_network.MLPClassifier.html)\n",
    "6. [SVM](https://scikitlearn.org/stable/modules/generated/sklearn.svm.SVC.html#sklearn.svm.SVC)"
   ]
  },
  {
   "cell_type": "markdown",
   "metadata": {},
   "source": [
    "## Load Datasets"
   ]
  },
  {
   "cell_type": "code",
   "execution_count": 332,
   "metadata": {},
   "outputs": [],
   "source": [
    "import pandas as pd\n",
    "from sklearn import datasets\n",
    "\n",
    "# Load breast cancer dataset\n",
    "breast_cancer = datasets.load_breast_cancer()\n",
    "X_breast_cancer, y_breast_cancer = datasets.load_breast_cancer(return_X_y=True)\n",
    "\n",
    "# Load play tennis dataset\n",
    "df_play_tennis = pd.read_csv('data/play_tennis.csv')\n",
    "df_play_tennis = df_play_tennis.drop(['day'],axis=1)"
   ]
  },
  {
   "cell_type": "markdown",
   "metadata": {},
   "source": [
    "## Encode Categorical Data"
   ]
  },
  {
   "cell_type": "code",
   "execution_count": 333,
   "metadata": {},
   "outputs": [],
   "source": [
    "# Encode categorical data in play tennis dataframe\n",
    "from sklearn import preprocessing\n",
    "df_play_tennis = df_play_tennis.apply(preprocessing.LabelEncoder().fit_transform)\n",
    "\n",
    "# Divide play tennis dataframe to data and target\n",
    "dataset_play_tennis = df_play_tennis.to_numpy()\n",
    "X_play_tennis = []\n",
    "y_play_tennis = []\n",
    "for i in range(len(dataset_play_tennis)):\n",
    "    X_play_tennis.append(dataset_play_tennis[i][:-1])\n",
    "    y_play_tennis.append(dataset_play_tennis[i][-1])"
   ]
  },
  {
   "cell_type": "markdown",
   "metadata": {},
   "source": [
    "## Split Datasets"
   ]
  },
  {
   "cell_type": "code",
   "execution_count": 334,
   "metadata": {},
   "outputs": [],
   "source": [
    "# Split dataset to 80% training data and 20% testing data\n",
    "from sklearn.model_selection import train_test_split\n",
    "\n",
    "# Split breast cancer dataset\n",
    "X_training_breast_cancer, X_testing_breast_cancer = train_test_split(X_breast_cancer, test_size=0.2, random_state=25)\n",
    "y_training_breast_cancer, y_testing_breast_cancer = train_test_split(y_breast_cancer, test_size=0.2, random_state=25)\n",
    "\n",
    "# Split play tennis dataset\n",
    "X_training_play_tennis, X_testing_play_tennis = train_test_split(X_play_tennis, test_size=0.2, random_state=25)\n",
    "y_training_play_tennis, y_testing_play_tennis = train_test_split(y_play_tennis, test_size=0.2, random_state=25)"
   ]
  },
  {
   "cell_type": "markdown",
   "metadata": {},
   "source": [
    "## Learning with Logistic Regression Algorithm"
   ]
  },
  {
   "cell_type": "code",
   "execution_count": 335,
   "metadata": {},
   "outputs": [],
   "source": [
    "from sklearn.linear_model import LogisticRegression\n",
    "from sklearn import metrics"
   ]
  },
  {
   "cell_type": "markdown",
   "metadata": {},
   "source": [
    "### Breast cancer"
   ]
  },
  {
   "cell_type": "code",
   "execution_count": 336,
   "metadata": {},
   "outputs": [
    {
     "data": {
      "text/plain": [
       "0.9298245614035088"
      ]
     },
     "execution_count": 336,
     "metadata": {},
     "output_type": "execute_result"
    }
   ],
   "source": [
    "clf_breast_cancer = LogisticRegression(random_state=0, max_iter=10000).fit(X_training_breast_cancer, y_training_breast_cancer)\n",
    "y_predict = clf_breast_cancer.predict(X_testing_breast_cancer)\n",
    "clf_breast_cancer.score(X_testing_breast_cancer, y_testing_breast_cancer)"
   ]
  },
  {
   "cell_type": "markdown",
   "metadata": {},
   "source": [
    "#### Metrics Evaluation"
   ]
  },
  {
   "cell_type": "code",
   "execution_count": 337,
   "metadata": {},
   "outputs": [
    {
     "name": "stdout",
     "output_type": "stream",
     "text": [
      "Accuracy score = 0.9298245614035088\n",
      "F1 score = 0.9466666666666667\n"
     ]
    }
   ],
   "source": [
    "accuracy_score = metrics.accuracy_score(y_testing_breast_cancer, y_predict)\n",
    "f1_score = metrics.f1_score(y_testing_breast_cancer, y_predict)\n",
    "\n",
    "print('Accuracy score =', accuracy_score)\n",
    "print('F1 score =', f1_score)"
   ]
  },
  {
   "cell_type": "markdown",
   "metadata": {},
   "source": [
    "### Play tennis"
   ]
  },
  {
   "cell_type": "code",
   "execution_count": 338,
   "metadata": {},
   "outputs": [
    {
     "data": {
      "text/plain": [
       "1.0"
      ]
     },
     "execution_count": 338,
     "metadata": {},
     "output_type": "execute_result"
    }
   ],
   "source": [
    "clf_play_tennis = LogisticRegression().fit(X_training_play_tennis, y_training_play_tennis)\n",
    "y_predict = clf_play_tennis.predict(X_testing_play_tennis)\n",
    "clf_play_tennis.score(X_testing_play_tennis, y_testing_play_tennis)\n"
   ]
  },
  {
   "cell_type": "markdown",
   "metadata": {},
   "source": [
    "#### Metrics Evaluation"
   ]
  },
  {
   "cell_type": "code",
   "execution_count": 339,
   "metadata": {},
   "outputs": [
    {
     "name": "stdout",
     "output_type": "stream",
     "text": [
      "Accuracy score = 1.0\n",
      "F1 score = 1.0\n"
     ]
    }
   ],
   "source": [
    "accuracy_score = metrics.accuracy_score(y_testing_play_tennis, y_predict)\n",
    "f1_score = metrics.f1_score(y_testing_play_tennis, y_predict)\n",
    "\n",
    "print('Accuracy score =', accuracy_score)\n",
    "print('F1 score =', f1_score)"
   ]
  },
  {
   "cell_type": "markdown",
   "metadata": {},
   "source": [
    "## Learning with Neural Network Algorithm"
   ]
  },
  {
   "cell_type": "code",
   "execution_count": 340,
   "metadata": {},
   "outputs": [],
   "source": [
    "from sklearn.neural_network import MLPClassifier"
   ]
  },
  {
   "cell_type": "markdown",
   "metadata": {},
   "source": [
    "### Breast cancer"
   ]
  },
  {
   "cell_type": "code",
   "execution_count": 341,
   "metadata": {},
   "outputs": [
    {
     "data": {
      "text/plain": [
       "0.956140350877193"
      ]
     },
     "execution_count": 341,
     "metadata": {},
     "output_type": "execute_result"
    }
   ],
   "source": [
    "clf_breast_cancer = MLPClassifier(random_state=1, max_iter=300).fit(X_training_breast_cancer, y_training_breast_cancer)\n",
    "y_predict = clf_breast_cancer.predict(X_testing_breast_cancer)\n",
    "clf_breast_cancer.score(X_testing_breast_cancer, y_testing_breast_cancer)"
   ]
  },
  {
   "cell_type": "markdown",
   "metadata": {},
   "source": [
    "#### Metrics Evaluation"
   ]
  },
  {
   "cell_type": "code",
   "execution_count": 342,
   "metadata": {},
   "outputs": [
    {
     "name": "stdout",
     "output_type": "stream",
     "text": [
      "Accuracy score = 0.956140350877193\n",
      "F1 score = 0.9673202614379085\n"
     ]
    }
   ],
   "source": [
    "accuracy_score = metrics.accuracy_score(y_testing_breast_cancer, y_predict)\n",
    "f1_score = metrics.f1_score(y_testing_breast_cancer, y_predict)\n",
    "\n",
    "print('Accuracy score =', accuracy_score)\n",
    "print('F1 score =', f1_score)"
   ]
  },
  {
   "cell_type": "markdown",
   "metadata": {},
   "source": [
    "### Play tennis"
   ]
  },
  {
   "cell_type": "code",
   "execution_count": 343,
   "metadata": {},
   "outputs": [
    {
     "data": {
      "text/plain": [
       "1.0"
      ]
     },
     "execution_count": 343,
     "metadata": {},
     "output_type": "execute_result"
    }
   ],
   "source": [
    "clf_play_tennis = MLPClassifier(random_state=1, max_iter=1000).fit(X_training_play_tennis, y_training_play_tennis)\n",
    "y_predict = clf_play_tennis.predict(X_testing_play_tennis)\n",
    "clf_play_tennis.score(X_testing_play_tennis, y_testing_play_tennis)"
   ]
  },
  {
   "cell_type": "markdown",
   "metadata": {},
   "source": [
    "#### Metrics Evaluation"
   ]
  },
  {
   "cell_type": "code",
   "execution_count": 344,
   "metadata": {},
   "outputs": [
    {
     "name": "stdout",
     "output_type": "stream",
     "text": [
      "Accuracy score = 1.0\n",
      "F1 score = 1.0\n"
     ]
    }
   ],
   "source": [
    "accuracy_score = metrics.accuracy_score(y_testing_play_tennis, y_predict)\n",
    "f1_score = metrics.f1_score(y_testing_play_tennis, y_predict)\n",
    "\n",
    "print('Accuracy score =', accuracy_score)\n",
    "print('F1 score =', f1_score)"
   ]
  },
  {
   "cell_type": "markdown",
   "metadata": {},
   "source": [
    "## Learning with SVM algorithm"
   ]
  },
  {
   "cell_type": "code",
   "execution_count": 345,
   "metadata": {},
   "outputs": [],
   "source": [
    "from sklearn.svm import SVC"
   ]
  },
  {
   "cell_type": "markdown",
   "metadata": {},
   "source": [
    "### Breast cancer"
   ]
  },
  {
   "cell_type": "code",
   "execution_count": 346,
   "metadata": {},
   "outputs": [
    {
     "data": {
      "text/plain": [
       "0.9122807017543859"
      ]
     },
     "execution_count": 346,
     "metadata": {},
     "output_type": "execute_result"
    }
   ],
   "source": [
    "clf_play_tennis = SVC().fit(X_training_breast_cancer, y_training_breast_cancer)\n",
    "y_predict = clf_play_tennis.predict(X_testing_breast_cancer)\n",
    "clf_play_tennis.score(X_testing_breast_cancer, y_testing_breast_cancer)"
   ]
  },
  {
   "cell_type": "markdown",
   "metadata": {},
   "source": [
    "#### Metrics Evaluation"
   ]
  },
  {
   "cell_type": "code",
   "execution_count": 347,
   "metadata": {},
   "outputs": [
    {
     "name": "stdout",
     "output_type": "stream",
     "text": [
      "Accuracy score = 0.9122807017543859\n",
      "F1 score = 0.9367088607594936\n"
     ]
    }
   ],
   "source": [
    "accuracy_score = metrics.accuracy_score(y_testing_breast_cancer, y_predict)\n",
    "f1_score = metrics.f1_score(y_testing_breast_cancer, y_predict)\n",
    "\n",
    "print('Accuracy score =', accuracy_score)\n",
    "print('F1 score =', f1_score)"
   ]
  },
  {
   "cell_type": "markdown",
   "metadata": {},
   "source": [
    "### Play tennis"
   ]
  },
  {
   "cell_type": "code",
   "execution_count": 348,
   "metadata": {},
   "outputs": [
    {
     "data": {
      "text/plain": [
       "0.6666666666666666"
      ]
     },
     "execution_count": 348,
     "metadata": {},
     "output_type": "execute_result"
    }
   ],
   "source": [
    "clf_play_tennis = SVC().fit(X_training_play_tennis, y_training_play_tennis)\n",
    "y_predict = clf_play_tennis.predict(X_testing_play_tennis)\n",
    "clf_play_tennis.score(X_testing_play_tennis, y_testing_play_tennis)"
   ]
  },
  {
   "cell_type": "markdown",
   "metadata": {},
   "source": [
    "#### Metrics Evaluation"
   ]
  },
  {
   "cell_type": "code",
   "execution_count": 349,
   "metadata": {},
   "outputs": [
    {
     "name": "stdout",
     "output_type": "stream",
     "text": [
      "Accuracy score = 0.6666666666666666\n",
      "F1 score = 0.6666666666666666\n"
     ]
    }
   ],
   "source": [
    "accuracy_score = metrics.accuracy_score(y_testing_play_tennis, y_predict)\n",
    "f1_score = metrics.f1_score(y_testing_play_tennis, y_predict)\n",
    "\n",
    "print('Accuracy score =', accuracy_score)\n",
    "print('F1 score =', f1_score)"
   ]
  }
 ],
 "metadata": {
  "interpreter": {
   "hash": "e7370f93d1d0cde622a1f8e1c04877d8463912d04d973331ad4851f04de6915a"
  },
  "kernelspec": {
   "display_name": "Python 3 (ipykernel)",
   "language": "python",
   "name": "python3"
  },
  "language_info": {
   "codemirror_mode": {
    "name": "ipython",
    "version": 3
   },
   "file_extension": ".py",
   "mimetype": "text/x-python",
   "name": "python",
   "nbconvert_exporter": "python",
   "pygments_lexer": "ipython3",
   "version": "3.8.10"
  }
 },
 "nbformat": 4,
 "nbformat_minor": 2
}

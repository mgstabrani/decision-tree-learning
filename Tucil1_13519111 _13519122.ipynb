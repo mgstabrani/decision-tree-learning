{
 "cells": [
  {
   "cell_type": "markdown",
   "metadata": {},
   "source": [
    "# Decision Tree Learning\n",
    "\n",
    "### Member: \n",
    "- [Febriawan Ghally Ar Rahman (1359111)](https://github.com/ghallyy)\n",
    "- [Mgs. Tabrani (13519122)](https://github.com/mgstabrani)\n",
    "\n",
    "### Content\n",
    "1. [DecisionTreeClassifier](http://scikit-learn.org/stable/modules/tree.html)\n",
    "2. [Id3Estimator](https://github.com/svaante/decision-tree-id3)\n",
    "3. [K Means](https://scikit-learn.org/0.19/modules/generated/sklearn.cluster.KMeans.html)\n",
    "4. [LogisticRegression](https://scikitlearn.org/stable/modules/generated/sklearn.linear_model.LogisticRegression.html)\n",
    "5. [Neural_network](https://scikitlearn.org/stable/modules/generated/sklearn.neural_network.MLPClassifier.html)\n",
    "6. [SVM](https://scikitlearn.org/stable/modules/generated/sklearn.svm.SVC.html#sklearn.svm.SVC)"
   ]
  },
  {
   "cell_type": "markdown",
   "metadata": {},
   "source": [
    "## Load Datasets"
   ]
  },
  {
   "cell_type": "code",
   "execution_count": 9,
   "metadata": {},
   "outputs": [],
   "source": [
    "import pandas as pd\n",
    "from sklearn import datasets\n",
    "\n",
    "# Load breast cancer dataset\n",
    "breast_cancer = datasets.load_breast_cancer()\n",
    "df_breast_cancer = pd.DataFrame(data=breast_cancer.data, columns=breast_cancer.feature_names)\n",
    "\n",
    "# Load play tennis dataset\n",
    "df_play_tennis = pd.read_csv('data/play_tennis.csv')"
   ]
  },
  {
   "cell_type": "markdown",
   "metadata": {},
   "source": [
    "## Encode Categorical Data"
   ]
  },
  {
   "cell_type": "code",
   "execution_count": 10,
   "metadata": {},
   "outputs": [],
   "source": [
    "# Encode categorical data in play tennis dataframe\n",
    "from sklearn import preprocessing\n",
    "df_play_tennis = df_play_tennis.apply(preprocessing.LabelEncoder().fit_transform)"
   ]
  },
  {
   "cell_type": "markdown",
   "metadata": {},
   "source": [
    "## Split Datasets"
   ]
  },
  {
   "cell_type": "code",
   "execution_count": 14,
   "metadata": {},
   "outputs": [],
   "source": [
    "# Split dataset to 80% training data and 20% testing data\n",
    "from sklearn.model_selection import train_test_split\n",
    "\n",
    "training_data_breast_cancer, testing_data_breast_cancer = train_test_split(df_breast_cancer, test_size=0.2, random_state=25)\n",
    "training_data_play_tennis, testing_data_play_tennis = train_test_split(df_play_tennis, test_size=0.2, random_state=25)"
   ]
  }
 ],
 "metadata": {
  "interpreter": {
   "hash": "e7370f93d1d0cde622a1f8e1c04877d8463912d04d973331ad4851f04de6915a"
  },
  "kernelspec": {
   "display_name": "Python 3 (ipykernel)",
   "language": "python",
   "name": "python3"
  },
  "language_info": {
   "codemirror_mode": {
    "name": "ipython",
    "version": 3
   },
   "file_extension": ".py",
   "mimetype": "text/x-python",
   "name": "python",
   "nbconvert_exporter": "python",
   "pygments_lexer": "ipython3",
   "version": "3.8.10"
  }
 },
 "nbformat": 4,
 "nbformat_minor": 2
}
